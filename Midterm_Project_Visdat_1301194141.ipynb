{
  "nbformat": 4,
  "nbformat_minor": 0,
  "metadata": {
    "colab": {
      "name": "Midterm Project Visdat_1301194141.ipynb",
      "provenance": [],
      "collapsed_sections": [],
      "authorship_tag": "ABX9TyOWq0auIO3ph5/U++4hZzE8"
    },
    "kernelspec": {
      "name": "python3",
      "display_name": "Python 3"
    },
    "language_info": {
      "name": "python"
    }
  },
  "cells": [
    {
      "cell_type": "markdown",
      "metadata": {
        "id": "TQFI6EP_5f0d"
      },
      "source": [
        "# **Midterm Project Visualisasi Data IF-42-GAB03**\n",
        "Nama: Ni Made Dwipadini Puspitarini\n",
        "\n",
        "NIM : 1301194141"
      ]
    },
    {
      "cell_type": "markdown",
      "metadata": {
        "id": "iDT9XpSi57m3"
      },
      "source": [
        "# **Import Dataset**"
      ]
    },
    {
      "cell_type": "code",
      "metadata": {
        "colab": {
          "base_uri": "https://localhost:8080/"
        },
        "id": "tU0nWHig5bQx",
        "outputId": "9dae1e36-9240-4abd-db3f-7d36ac24d36c"
      },
      "source": [
        "# connecting to google drive\n",
        "!gdown --id 1ibFp9ibVVxDUXkL8JEFIzOQkT2qERFl6\n",
        "!gdown --id 18PbNVpM6UPHscsUI7mvtyk1uzJXzUU07"
      ],
      "execution_count": null,
      "outputs": [
        {
          "output_type": "stream",
          "name": "stdout",
          "text": [
            "Downloading...\n",
            "From: https://drive.google.com/uc?id=1ibFp9ibVVxDUXkL8JEFIzOQkT2qERFl6\n",
            "To: /content/Data Set 1.csv\n",
            "100% 1.15k/1.15k [00:00<00:00, 963kB/s]\n",
            "Downloading...\n",
            "From: https://drive.google.com/uc?id=18PbNVpM6UPHscsUI7mvtyk1uzJXzUU07\n",
            "To: /content/Data Set 2.csv\n",
            "100% 2.82k/2.82k [00:00<00:00, 4.69MB/s]\n"
          ]
        }
      ]
    },
    {
      "cell_type": "markdown",
      "metadata": {
        "id": "dsJXYR4T6MqZ"
      },
      "source": [
        "# **Import Library**"
      ]
    },
    {
      "cell_type": "code",
      "metadata": {
        "id": "RYBEXd9B6MVM"
      },
      "source": [
        "import warnings\n",
        "warnings.filterwarnings('ignore')"
      ],
      "execution_count": null,
      "outputs": []
    },
    {
      "cell_type": "code",
      "metadata": {
        "id": "xI8OgaMc6Rcm"
      },
      "source": [
        "import pandas as pd\n",
        "import pandas as pd\n",
        "import numpy as np\n",
        "import matplotlib.pyplot as plt\n",
        "import seaborn as sns"
      ],
      "execution_count": null,
      "outputs": []
    },
    {
      "cell_type": "markdown",
      "metadata": {
        "id": "1dO42cjL6oha"
      },
      "source": [
        "# **Read and understanding Dataset 1**"
      ]
    },
    {
      "cell_type": "code",
      "metadata": {
        "colab": {
          "base_uri": "https://localhost:8080/",
          "height": 206
        },
        "id": "ls18_eXo6tl6",
        "outputId": "92d9c907-63f8-4f6b-faff-23d4263b4b3d"
      },
      "source": [
        "# membaca dataset pertama dan menampilkan 5 data pertama\n",
        "df1 = pd.read_csv(\"Data Set 1.csv\")\n",
        "df1.head()"
      ],
      "execution_count": null,
      "outputs": [
        {
          "output_type": "execute_result",
          "data": {
            "text/html": [
              "<div>\n",
              "<style scoped>\n",
              "    .dataframe tbody tr th:only-of-type {\n",
              "        vertical-align: middle;\n",
              "    }\n",
              "\n",
              "    .dataframe tbody tr th {\n",
              "        vertical-align: top;\n",
              "    }\n",
              "\n",
              "    .dataframe thead th {\n",
              "        text-align: right;\n",
              "    }\n",
              "</style>\n",
              "<table border=\"1\" class=\"dataframe\">\n",
              "  <thead>\n",
              "    <tr style=\"text-align: right;\">\n",
              "      <th></th>\n",
              "      <th>date</th>\n",
              "      <th>new_tested</th>\n",
              "      <th>acc_tested</th>\n",
              "      <th>new_confirmed</th>\n",
              "      <th>acc_confirmed</th>\n",
              "      <th>acc_negative</th>\n",
              "      <th>being_checked</th>\n",
              "      <th>isolated</th>\n",
              "    </tr>\n",
              "  </thead>\n",
              "  <tbody>\n",
              "    <tr>\n",
              "      <th>0</th>\n",
              "      <td>02-Mar-20</td>\n",
              "      <td>339</td>\n",
              "      <td>339</td>\n",
              "      <td>2</td>\n",
              "      <td>2</td>\n",
              "      <td>335</td>\n",
              "      <td>2</td>\n",
              "      <td>2</td>\n",
              "    </tr>\n",
              "    <tr>\n",
              "      <th>1</th>\n",
              "      <td>03-Mar-20</td>\n",
              "      <td>2</td>\n",
              "      <td>341</td>\n",
              "      <td>0</td>\n",
              "      <td>2</td>\n",
              "      <td>337</td>\n",
              "      <td>2</td>\n",
              "      <td>2</td>\n",
              "    </tr>\n",
              "    <tr>\n",
              "      <th>2</th>\n",
              "      <td>04-Mar-20</td>\n",
              "      <td>31</td>\n",
              "      <td>372</td>\n",
              "      <td>0</td>\n",
              "      <td>2</td>\n",
              "      <td>356</td>\n",
              "      <td>14</td>\n",
              "      <td>2</td>\n",
              "    </tr>\n",
              "    <tr>\n",
              "      <th>3</th>\n",
              "      <td>05-Mar-20</td>\n",
              "      <td>16</td>\n",
              "      <td>388</td>\n",
              "      <td>0</td>\n",
              "      <td>2</td>\n",
              "      <td>371</td>\n",
              "      <td>15</td>\n",
              "      <td>2</td>\n",
              "    </tr>\n",
              "    <tr>\n",
              "      <th>4</th>\n",
              "      <td>06-Mar-20</td>\n",
              "      <td>62</td>\n",
              "      <td>450</td>\n",
              "      <td>2</td>\n",
              "      <td>4</td>\n",
              "      <td>422</td>\n",
              "      <td>24</td>\n",
              "      <td>4</td>\n",
              "    </tr>\n",
              "  </tbody>\n",
              "</table>\n",
              "</div>"
            ],
            "text/plain": [
              "        date  new_tested  acc_tested  ...  acc_negative  being_checked  isolated\n",
              "0  02-Mar-20         339         339  ...           335              2         2\n",
              "1  03-Mar-20           2         341  ...           337              2         2\n",
              "2  04-Mar-20          31         372  ...           356             14         2\n",
              "3  05-Mar-20          16         388  ...           371             15         2\n",
              "4  06-Mar-20          62         450  ...           422             24         4\n",
              "\n",
              "[5 rows x 8 columns]"
            ]
          },
          "metadata": {},
          "execution_count": 30
        }
      ]
    },
    {
      "cell_type": "code",
      "metadata": {
        "colab": {
          "base_uri": "https://localhost:8080/"
        },
        "id": "W4DxCSDG7X8C",
        "outputId": "c13f5ad2-a95b-40c1-ed4f-492a34982f25"
      },
      "source": [
        "# mengecek ukuran baris dan kolom\n",
        "df1.shape"
      ],
      "execution_count": null,
      "outputs": [
        {
          "output_type": "execute_result",
          "data": {
            "text/plain": [
              "(30, 8)"
            ]
          },
          "metadata": {},
          "execution_count": 31
        }
      ]
    },
    {
      "cell_type": "code",
      "metadata": {
        "colab": {
          "base_uri": "https://localhost:8080/"
        },
        "id": "u_VEsQ8N7Dci",
        "outputId": "7f5f5055-171c-461c-e912-29ce0435f59e"
      },
      "source": [
        "# mengecek jumlah nilai null pada dataset pertama\n",
        "df1.isna().sum()"
      ],
      "execution_count": null,
      "outputs": [
        {
          "output_type": "execute_result",
          "data": {
            "text/plain": [
              "date             0\n",
              "new_tested       0\n",
              "acc_tested       0\n",
              "new_confirmed    0\n",
              "acc_confirmed    0\n",
              "acc_negative     0\n",
              "being_checked    0\n",
              "isolated         0\n",
              "dtype: int64"
            ]
          },
          "metadata": {},
          "execution_count": 32
        }
      ]
    },
    {
      "cell_type": "code",
      "metadata": {
        "colab": {
          "base_uri": "https://localhost:8080/"
        },
        "id": "AVESpGCa7NHh",
        "outputId": "aefe529d-234c-4f82-89d6-88a10e6b7e2e"
      },
      "source": [
        "# mengecek nama-nama kolom, tipe data masing-masing kolom, beserta kelengkapan datanya\n",
        "df1.info()"
      ],
      "execution_count": null,
      "outputs": [
        {
          "output_type": "stream",
          "name": "stdout",
          "text": [
            "<class 'pandas.core.frame.DataFrame'>\n",
            "RangeIndex: 30 entries, 0 to 29\n",
            "Data columns (total 8 columns):\n",
            " #   Column         Non-Null Count  Dtype \n",
            "---  ------         --------------  ----- \n",
            " 0   date           30 non-null     object\n",
            " 1   new_tested     30 non-null     int64 \n",
            " 2   acc_tested     30 non-null     int64 \n",
            " 3   new_confirmed  30 non-null     int64 \n",
            " 4   acc_confirmed  30 non-null     int64 \n",
            " 5   acc_negative   30 non-null     int64 \n",
            " 6   being_checked  30 non-null     int64 \n",
            " 7   isolated       30 non-null     int64 \n",
            "dtypes: int64(7), object(1)\n",
            "memory usage: 2.0+ KB\n"
          ]
        }
      ]
    },
    {
      "cell_type": "code",
      "metadata": {
        "id": "4zUKQ3j1Mq5Q"
      },
      "source": [
        "# menambahkan kolom tanggal yang berisikan bagian tanggal saja dari kolom date (slicing)\n",
        "df1['Tanggal'] = df1['date'].apply(lambda x:x[:2]).astype(int)"
      ],
      "execution_count": null,
      "outputs": []
    },
    {
      "cell_type": "markdown",
      "metadata": {
        "id": "oFfxFweN7sz5"
      },
      "source": [
        "# **Soal 1 (10 point)**\n",
        "Dengan menggunakan line plot, tampilkan perbandingan jumlah akumulatif tes sampel, terkonfirmasi positif dan terkonfirmasi negatif untuk periode waktu yang tersedia."
      ]
    },
    {
      "cell_type": "code",
      "metadata": {
        "colab": {
          "base_uri": "https://localhost:8080/",
          "height": 237
        },
        "id": "ImN8Ef6H98Xa",
        "outputId": "18198232-c0de-407e-9522-671f2a1039b9"
      },
      "source": [
        "# mengambil kolom yang diperlukan yaitu tanggal, acc_tested, acc_confirmed, dan acc_negative\n",
        "soal1 = df1[['Tanggal', 'acc_tested', 'acc_confirmed', 'acc_negative']]\n",
        "soal1 = soal1.rename(columns={'acc_tested' : 'Tes Sampel', 'acc_confirmed' : 'Terkonfirmasi Positif', \n",
        "                        'acc_negative' : 'Terkonfirmasi Negatif'})\n",
        "soal1.set_index('Tanggal', inplace=True)\n",
        "soal1.head()"
      ],
      "execution_count": null,
      "outputs": [
        {
          "output_type": "execute_result",
          "data": {
            "text/html": [
              "<div>\n",
              "<style scoped>\n",
              "    .dataframe tbody tr th:only-of-type {\n",
              "        vertical-align: middle;\n",
              "    }\n",
              "\n",
              "    .dataframe tbody tr th {\n",
              "        vertical-align: top;\n",
              "    }\n",
              "\n",
              "    .dataframe thead th {\n",
              "        text-align: right;\n",
              "    }\n",
              "</style>\n",
              "<table border=\"1\" class=\"dataframe\">\n",
              "  <thead>\n",
              "    <tr style=\"text-align: right;\">\n",
              "      <th></th>\n",
              "      <th>Tes Sampel</th>\n",
              "      <th>Terkonfirmasi Positif</th>\n",
              "      <th>Terkonfirmasi Negatif</th>\n",
              "    </tr>\n",
              "    <tr>\n",
              "      <th>Tanggal</th>\n",
              "      <th></th>\n",
              "      <th></th>\n",
              "      <th></th>\n",
              "    </tr>\n",
              "  </thead>\n",
              "  <tbody>\n",
              "    <tr>\n",
              "      <th>2</th>\n",
              "      <td>339</td>\n",
              "      <td>2</td>\n",
              "      <td>335</td>\n",
              "    </tr>\n",
              "    <tr>\n",
              "      <th>3</th>\n",
              "      <td>341</td>\n",
              "      <td>2</td>\n",
              "      <td>337</td>\n",
              "    </tr>\n",
              "    <tr>\n",
              "      <th>4</th>\n",
              "      <td>372</td>\n",
              "      <td>2</td>\n",
              "      <td>356</td>\n",
              "    </tr>\n",
              "    <tr>\n",
              "      <th>5</th>\n",
              "      <td>388</td>\n",
              "      <td>2</td>\n",
              "      <td>371</td>\n",
              "    </tr>\n",
              "    <tr>\n",
              "      <th>6</th>\n",
              "      <td>450</td>\n",
              "      <td>4</td>\n",
              "      <td>422</td>\n",
              "    </tr>\n",
              "  </tbody>\n",
              "</table>\n",
              "</div>"
            ],
            "text/plain": [
              "         Tes Sampel  Terkonfirmasi Positif  Terkonfirmasi Negatif\n",
              "Tanggal                                                          \n",
              "2               339                      2                    335\n",
              "3               341                      2                    337\n",
              "4               372                      2                    356\n",
              "5               388                      2                    371\n",
              "6               450                      4                    422"
            ]
          },
          "metadata": {},
          "execution_count": 35
        }
      ]
    },
    {
      "cell_type": "code",
      "metadata": {
        "colab": {
          "base_uri": "https://localhost:8080/",
          "height": 350
        },
        "id": "Un-iHloJEgTg",
        "outputId": "92f5b963-4083-4aef-dc2c-6ffeab43132a"
      },
      "source": [
        "# visualisasi line plot\n",
        "ax = soal1.plot(kind='line', figsize=(12, 5))\n",
        "ax.set_xlim([2, 31])\n",
        "ax.set_xticks(np.arange(2, 32, 1))\n",
        "plt.title('Perbandingan Tes Sampel, Terkonfirmasi Positif dan Terkonfirmasi Negatif Bulan Maret 2020')\n",
        "plt.ylabel('Jumlah Akumulatif')\n",
        "plt.xlabel('Tanggal')\n",
        "plt.show()"
      ],
      "execution_count": null,
      "outputs": [
        {
          "output_type": "display_data",
          "data": {
            "image/png": "[encoded data removed]",
            "text/plain": [
              "<Figure size 864x360 with 1 Axes>"
            ]
          },
          "metadata": {
            "needs_background": "light"
          }
        }
      ]
    },
    {
      "cell_type": "markdown",
      "metadata": {
        "id": "rTM2R4qIYmRv"
      },
      "source": [
        "Berdasarkan hasil visualisasi di atas, dari hasil jumlah akumulatif tes sampel dapat dilihat bahwa jumlah akumulatif terkonfirmasi negatif lebih banyak daripada jumlah akumulatif terkonfirmasi positif. Jumlah akumulatif terkonfirmasi negatif sekitar 5000an, jumlah akumulatif terkonfirmasi positif sekitar 1500an, dan jumlah akumulatif tes sampel sekitar 6700an. "
      ]
    },
    {
      "cell_type": "markdown",
      "metadata": {
        "id": "Gb3Icvc1SmiE"
      },
      "source": [
        "# **Soal 2 (30 poin)**\n",
        "Hitunglah nilai positive rate dan negative rate untuk masing-masing waktu.\n",
        "\n",
        "1.   Positive\trate\t= (Jumlah\tterkonfirmasi\tpositif / Jumlah\ttes\tsampel) × 100%\n",
        "\n",
        "2.   Negative\trate\t= (Jumlah\tterkonfirmasi\tnegatif / Jumlah\ttes\tsampel) × 100%"
      ]
    },
    {
      "cell_type": "code",
      "metadata": {
        "colab": {
          "base_uri": "https://localhost:8080/",
          "height": 293
        },
        "id": "px5aadygNIXv",
        "outputId": "e723c0a7-1431-4189-b258-354cb50f2673"
      },
      "source": [
        "# menghitung nilai positive rate dan negative rate\n",
        "df1['positive_rate'] = (df1['acc_confirmed'] / df1['acc_tested']) * 100\n",
        "df1['negative_rate'] = (df1['acc_negative'] / df1['acc_tested']) * 100\n",
        "df1.head()"
      ],
      "execution_count": null,
      "outputs": [
        {
          "output_type": "execute_result",
          "data": {
            "text/html": [
              "<div>\n",
              "<style scoped>\n",
              "    .dataframe tbody tr th:only-of-type {\n",
              "        vertical-align: middle;\n",
              "    }\n",
              "\n",
              "    .dataframe tbody tr th {\n",
              "        vertical-align: top;\n",
              "    }\n",
              "\n",
              "    .dataframe thead th {\n",
              "        text-align: right;\n",
              "    }\n",
              "</style>\n",
              "<table border=\"1\" class=\"dataframe\">\n",
              "  <thead>\n",
              "    <tr style=\"text-align: right;\">\n",
              "      <th></th>\n",
              "      <th>date</th>\n",
              "      <th>new_tested</th>\n",
              "      <th>acc_tested</th>\n",
              "      <th>new_confirmed</th>\n",
              "      <th>acc_confirmed</th>\n",
              "      <th>acc_negative</th>\n",
              "      <th>being_checked</th>\n",
              "      <th>isolated</th>\n",
              "      <th>Tanggal</th>\n",
              "      <th>positive_rate</th>\n",
              "      <th>negative_rate</th>\n",
              "    </tr>\n",
              "  </thead>\n",
              "  <tbody>\n",
              "    <tr>\n",
              "      <th>0</th>\n",
              "      <td>02-Mar-20</td>\n",
              "      <td>339</td>\n",
              "      <td>339</td>\n",
              "      <td>2</td>\n",
              "      <td>2</td>\n",
              "      <td>335</td>\n",
              "      <td>2</td>\n",
              "      <td>2</td>\n",
              "      <td>2</td>\n",
              "      <td>0.589971</td>\n",
              "      <td>98.820059</td>\n",
              "    </tr>\n",
              "    <tr>\n",
              "      <th>1</th>\n",
              "      <td>03-Mar-20</td>\n",
              "      <td>2</td>\n",
              "      <td>341</td>\n",
              "      <td>0</td>\n",
              "      <td>2</td>\n",
              "      <td>337</td>\n",
              "      <td>2</td>\n",
              "      <td>2</td>\n",
              "      <td>3</td>\n",
              "      <td>0.586510</td>\n",
              "      <td>98.826979</td>\n",
              "    </tr>\n",
              "    <tr>\n",
              "      <th>2</th>\n",
              "      <td>04-Mar-20</td>\n",
              "      <td>31</td>\n",
              "      <td>372</td>\n",
              "      <td>0</td>\n",
              "      <td>2</td>\n",
              "      <td>356</td>\n",
              "      <td>14</td>\n",
              "      <td>2</td>\n",
              "      <td>4</td>\n",
              "      <td>0.537634</td>\n",
              "      <td>95.698925</td>\n",
              "    </tr>\n",
              "    <tr>\n",
              "      <th>3</th>\n",
              "      <td>05-Mar-20</td>\n",
              "      <td>16</td>\n",
              "      <td>388</td>\n",
              "      <td>0</td>\n",
              "      <td>2</td>\n",
              "      <td>371</td>\n",
              "      <td>15</td>\n",
              "      <td>2</td>\n",
              "      <td>5</td>\n",
              "      <td>0.515464</td>\n",
              "      <td>95.618557</td>\n",
              "    </tr>\n",
              "    <tr>\n",
              "      <th>4</th>\n",
              "      <td>06-Mar-20</td>\n",
              "      <td>62</td>\n",
              "      <td>450</td>\n",
              "      <td>2</td>\n",
              "      <td>4</td>\n",
              "      <td>422</td>\n",
              "      <td>24</td>\n",
              "      <td>4</td>\n",
              "      <td>6</td>\n",
              "      <td>0.888889</td>\n",
              "      <td>93.777778</td>\n",
              "    </tr>\n",
              "  </tbody>\n",
              "</table>\n",
              "</div>"
            ],
            "text/plain": [
              "        date  new_tested  acc_tested  ...  Tanggal  positive_rate  negative_rate\n",
              "0  02-Mar-20         339         339  ...        2       0.589971      98.820059\n",
              "1  03-Mar-20           2         341  ...        3       0.586510      98.826979\n",
              "2  04-Mar-20          31         372  ...        4       0.537634      95.698925\n",
              "3  05-Mar-20          16         388  ...        5       0.515464      95.618557\n",
              "4  06-Mar-20          62         450  ...        6       0.888889      93.777778\n",
              "\n",
              "[5 rows x 11 columns]"
            ]
          },
          "metadata": {},
          "execution_count": 37
        }
      ]
    },
    {
      "cell_type": "markdown",
      "metadata": {
        "id": "ZWTt5N5COc2W"
      },
      "source": [
        "Dengan menggunakan bar plot, tampilkan perbandingan positivity rate dan\n",
        "negativity rate untuk periode waktu yang tersedia"
      ]
    },
    {
      "cell_type": "code",
      "metadata": {
        "colab": {
          "base_uri": "https://localhost:8080/",
          "height": 237
        },
        "id": "NM-yuvVbPqvw",
        "outputId": "3beb64ec-caef-4c2f-932f-33705dfbaae0"
      },
      "source": [
        "# mengambil kolom yang diperlukan\n",
        "soal2 = df1[['positive_rate', 'negative_rate']].set_index(df1['Tanggal'])\n",
        "soal2.head()"
      ],
      "execution_count": null,
      "outputs": [
        {
          "output_type": "execute_result",
          "data": {
            "text/html": [
              "<div>\n",
              "<style scoped>\n",
              "    .dataframe tbody tr th:only-of-type {\n",
              "        vertical-align: middle;\n",
              "    }\n",
              "\n",
              "    .dataframe tbody tr th {\n",
              "        vertical-align: top;\n",
              "    }\n",
              "\n",
              "    .dataframe thead th {\n",
              "        text-align: right;\n",
              "    }\n",
              "</style>\n",
              "<table border=\"1\" class=\"dataframe\">\n",
              "  <thead>\n",
              "    <tr style=\"text-align: right;\">\n",
              "      <th></th>\n",
              "      <th>positive_rate</th>\n",
              "      <th>negative_rate</th>\n",
              "    </tr>\n",
              "    <tr>\n",
              "      <th>Tanggal</th>\n",
              "      <th></th>\n",
              "      <th></th>\n",
              "    </tr>\n",
              "  </thead>\n",
              "  <tbody>\n",
              "    <tr>\n",
              "      <th>2</th>\n",
              "      <td>0.589971</td>\n",
              "      <td>98.820059</td>\n",
              "    </tr>\n",
              "    <tr>\n",
              "      <th>3</th>\n",
              "      <td>0.586510</td>\n",
              "      <td>98.826979</td>\n",
              "    </tr>\n",
              "    <tr>\n",
              "      <th>4</th>\n",
              "      <td>0.537634</td>\n",
              "      <td>95.698925</td>\n",
              "    </tr>\n",
              "    <tr>\n",
              "      <th>5</th>\n",
              "      <td>0.515464</td>\n",
              "      <td>95.618557</td>\n",
              "    </tr>\n",
              "    <tr>\n",
              "      <th>6</th>\n",
              "      <td>0.888889</td>\n",
              "      <td>93.777778</td>\n",
              "    </tr>\n",
              "  </tbody>\n",
              "</table>\n",
              "</div>"
            ],
            "text/plain": [
              "         positive_rate  negative_rate\n",
              "Tanggal                              \n",
              "2             0.589971      98.820059\n",
              "3             0.586510      98.826979\n",
              "4             0.537634      95.698925\n",
              "5             0.515464      95.618557\n",
              "6             0.888889      93.777778"
            ]
          },
          "metadata": {},
          "execution_count": 38
        }
      ]
    },
    {
      "cell_type": "code",
      "metadata": {
        "colab": {
          "base_uri": "https://localhost:8080/",
          "height": 352
        },
        "id": "n-lEXF8QOXst",
        "outputId": "4cd5b36a-53ef-4f51-8002-e646f43107d8"
      },
      "source": [
        "# visualisasi bar plot\n",
        "soal2.plot(kind = 'bar', figsize = (12,5))\n",
        "plt.title('Perbandingan Positive Rate dan Negative Rate Bulan Maret 2020')\n",
        "plt.ylabel('Rate in Percent (%)')\n",
        "plt.xlabel('Tanggal')\n",
        "plt.show()"
      ],
      "execution_count": null,
      "outputs": [
        {
          "output_type": "display_data",
          "data": {
            "image/png": "[encoded data removed]",
            "text/plain": [
              "<Figure size 864x360 with 1 Axes>"
            ]
          },
          "metadata": {
            "needs_background": "light"
          }
        }
      ]
    },
    {
      "cell_type": "markdown",
      "metadata": {
        "id": "yBMj7pKbZpVL"
      },
      "source": [
        "Output diatas merupakan bar plot perbandingan positive rate dan negative rate untuk periode waktu yang tersedia."
      ]
    },
    {
      "cell_type": "markdown",
      "metadata": {
        "id": "OyKQyH3CRUG_"
      },
      "source": [
        "Pada tanggal berapa nilai positive rate menunjukkan nilai tertinggi?"
      ]
    },
    {
      "cell_type": "code",
      "metadata": {
        "colab": {
          "base_uri": "https://localhost:8080/"
        },
        "id": "RSvwfUalRTCy",
        "outputId": "d589ca07-24c3-49f0-ea78-c22c6c25d109"
      },
      "source": [
        "df1.loc[df1['positive_rate'] == df1['positive_rate'].max(), 'date']"
      ],
      "execution_count": null,
      "outputs": [
        {
          "output_type": "execute_result",
          "data": {
            "text/plain": [
              "29    31-Mar-20\n",
              "Name: date, dtype: object"
            ]
          },
          "metadata": {},
          "execution_count": 40
        }
      ]
    },
    {
      "cell_type": "markdown",
      "metadata": {
        "id": "BNshprQlR7G4"
      },
      "source": [
        "**Jawab :**\n",
        "\n",
        "Apabila dilihat secara visual melalui bar plot, dapat terlihat bahwa nilai positive rate tertinggi jatuh pada tanggal 31 Maret 2020. Untuk memastikan pernyataan ini, saya mencoba mencari nilai positive rate tertinggi menggunakan loc dan menghasilkan output yang sama yaitu 31 Maret 2020."
      ]
    },
    {
      "cell_type": "markdown",
      "metadata": {
        "id": "WlZvb1MISFpk"
      },
      "source": [
        "Pada tanggal berapa nilai negative rate menunjukkan nilai tertinggi?"
      ]
    },
    {
      "cell_type": "code",
      "metadata": {
        "colab": {
          "base_uri": "https://localhost:8080/"
        },
        "id": "oh60RX6FSFX_",
        "outputId": "bc95139b-7a86-4b0f-fd1a-6ac230892041"
      },
      "source": [
        "df1.loc[df1['negative_rate'] == df1['negative_rate'].max(), 'date']"
      ],
      "execution_count": null,
      "outputs": [
        {
          "output_type": "execute_result",
          "data": {
            "text/plain": [
              "1    03-Mar-20\n",
              "Name: date, dtype: object"
            ]
          },
          "metadata": {},
          "execution_count": 41
        }
      ]
    },
    {
      "cell_type": "markdown",
      "metadata": {
        "id": "BK46EPKdUAeG"
      },
      "source": [
        "**Jawab :**\n",
        "\n",
        "Apabila dilihat secara visual melalui bar plot, dapat terlihat bahwa nilai negative rate tertinggi jatuh pada tanggal 3 Maret 2020. Untuk memastikan pernyataan ini, saya mencoba mencari nilai negative rate tertinggi menggunakan loc dan menghasilkan output yang sama yaitu 3 Maret 2020."
      ]
    },
    {
      "cell_type": "markdown",
      "metadata": {
        "id": "XapZ6X2EUVMu"
      },
      "source": [
        "# **Soal 3 (20 poin)**\n",
        "Dengan menggunakan heatmap, tunjukkan korelasi antar variabel yang ada pada dataset."
      ]
    },
    {
      "cell_type": "code",
      "metadata": {
        "colab": {
          "base_uri": "https://localhost:8080/",
          "height": 337
        },
        "id": "e5b-1NtvYW_r",
        "outputId": "eea7e49b-bb2a-413e-a086-e93568bd2c9f"
      },
      "source": [
        "# drop kolom tambahan\n",
        "df1 = df1.drop(['Tanggal', 'positive_rate', 'negative_rate'], axis = 1)\n",
        "\n",
        "# visualisasi heatmap\n",
        "plt.figure(figsize=(12, 5))\n",
        "sns.heatmap(data = df1.corr(), annot = True, fmt='.2f').set_title('Nilai Korelasi Antar Variabel', weight = 'bold')\n",
        "plt.show()"
      ],
      "execution_count": null,
      "outputs": [
        {
          "output_type": "display_data",
          "data": {
            "image/png": "[encoded data removed]",
            "text/plain": [
              "<Figure size 864x360 with 2 Axes>"
            ]
          },
          "metadata": {
            "needs_background": "light"
          }
        }
      ]
    },
    {
      "cell_type": "markdown",
      "metadata": {
        "id": "6faY3Wo3ZZN9"
      },
      "source": [
        "Tentukan variabel-variabel yang memiliki nilai korelasi paling positif, dan berikan penjelasan terkait nilai korelasi tersebut.\n",
        "\n",
        "**Jawab :**\n",
        "\n",
        "Suatu variabel dikatakan memiliki nilai korelasi paling positif apabila memiliki nilai korelasi yang mendekati 1. Artinya, antar variabel-variabel tersebut memiliki hubungan yang positif kuat dengan kata lain saling berbanding lurus atau berkorelasi antar variabelnya. Berdasarkan heatmap diatas, maka berikut adalah 3 pasang variabel yang memiliki korelasi paling positif :\n",
        "1.   acc_tested dan acc_negative (nilai korelasi = 1.00)\n",
        "2.   acc_tested dan acc_confirmed (nilai korelasi = 0.99)\n",
        "3.   acc_tested dan isolated (nilai korelasi = 0.99)\n",
        "\n",
        "Tentukan variabel-variabel yang memiliki nilai korelasi paling negatif, dan berikan penjelasan terkait nilai korelasi tersebut.\n",
        "\n",
        "**Jawab :**\n",
        "\n",
        "Suatu variabel dikatakan memiliki nilai korelasi paling negatif apabila memiliki nilai korelasi yang mendekati -1. Artinya, antar variabel-variabel tersebut memiliki hubungan yang lemah dengan kata lain saling berbanding terbalik atau bisa dikatakan tidak terlalu berhubungan antar variabelnya. Berdasarkan heatmap diatas, maka berikut adalah 3 pasang variabel yang memiliki korelasi paling negatif :\n",
        "1.   acc_negatif dan being_checked (nilai korelasi = -0.61)\n",
        "2.   acc_tested dan being_checked (nilai korelasi = -0.61)\n",
        "3.   being_checked dan isolated (nilai korelasi = -0.60)\n",
        "\n"
      ]
    },
    {
      "cell_type": "markdown",
      "metadata": {
        "id": "aJ5UcQO8cpRN"
      },
      "source": [
        "# **Read and understanding Dataset 2**"
      ]
    },
    {
      "cell_type": "code",
      "metadata": {
        "colab": {
          "base_uri": "https://localhost:8080/",
          "height": 261
        },
        "id": "aNCjiGbU6y1j",
        "outputId": "522d52c4-08a1-4eaf-b576-4b11044b045a"
      },
      "source": [
        "# membaca dataset kedua dan menampilkan 5 data pertama\n",
        "df2 = pd.read_csv(\"Data Set 2.csv\")\n",
        "df2.head()"
      ],
      "execution_count": null,
      "outputs": [
        {
          "output_type": "execute_result",
          "data": {
            "text/html": [
              "<div>\n",
              "<style scoped>\n",
              "    .dataframe tbody tr th:only-of-type {\n",
              "        vertical-align: middle;\n",
              "    }\n",
              "\n",
              "    .dataframe tbody tr th {\n",
              "        vertical-align: top;\n",
              "    }\n",
              "\n",
              "    .dataframe thead th {\n",
              "        text-align: right;\n",
              "    }\n",
              "</style>\n",
              "<table border=\"1\" class=\"dataframe\">\n",
              "  <thead>\n",
              "    <tr style=\"text-align: right;\">\n",
              "      <th></th>\n",
              "      <th>province_id</th>\n",
              "      <th>province_name</th>\n",
              "      <th>island</th>\n",
              "      <th>iso_code</th>\n",
              "      <th>capital_city</th>\n",
              "      <th>population</th>\n",
              "      <th>population_kmsquare</th>\n",
              "      <th>confirmed</th>\n",
              "      <th>deceased</th>\n",
              "      <th>released</th>\n",
              "      <th>longitude</th>\n",
              "      <th>latitude</th>\n",
              "    </tr>\n",
              "  </thead>\n",
              "  <tbody>\n",
              "    <tr>\n",
              "      <th>0</th>\n",
              "      <td>1</td>\n",
              "      <td>Aceh</td>\n",
              "      <td>Sumatra</td>\n",
              "      <td>AC</td>\n",
              "      <td>Banda Aceh</td>\n",
              "      <td>4906835</td>\n",
              "      <td>86</td>\n",
              "      <td>4</td>\n",
              "      <td>0</td>\n",
              "      <td>0</td>\n",
              "      <td>9.672.895</td>\n",
              "      <td>3.869.994</td>\n",
              "    </tr>\n",
              "    <tr>\n",
              "      <th>1</th>\n",
              "      <td>2</td>\n",
              "      <td>Bali</td>\n",
              "      <td>Kepulauan Nusa Tenggara</td>\n",
              "      <td>BA</td>\n",
              "      <td>Denpasar</td>\n",
              "      <td>4104900</td>\n",
              "      <td>738</td>\n",
              "      <td>9</td>\n",
              "      <td>2</td>\n",
              "      <td>0</td>\n",
              "      <td>11.512.255</td>\n",
              "      <td>-825.731</td>\n",
              "    </tr>\n",
              "    <tr>\n",
              "      <th>2</th>\n",
              "      <td>3</td>\n",
              "      <td>Banten</td>\n",
              "      <td>Jawa</td>\n",
              "      <td>BT</td>\n",
              "      <td>Serang</td>\n",
              "      <td>11704877</td>\n",
              "      <td>1298</td>\n",
              "      <td>84</td>\n",
              "      <td>4</td>\n",
              "      <td>1</td>\n",
              "      <td>106.160.889</td>\n",
              "      <td>-6.315.299</td>\n",
              "    </tr>\n",
              "    <tr>\n",
              "      <th>3</th>\n",
              "      <td>4</td>\n",
              "      <td>Bengkulu</td>\n",
              "      <td>Sumatra</td>\n",
              "      <td>BE</td>\n",
              "      <td>Bengkulu</td>\n",
              "      <td>1844800</td>\n",
              "      <td>93</td>\n",
              "      <td>0</td>\n",
              "      <td>0</td>\n",
              "      <td>0</td>\n",
              "      <td>102.315.674</td>\n",
              "      <td>-3.414.725</td>\n",
              "    </tr>\n",
              "    <tr>\n",
              "      <th>4</th>\n",
              "      <td>5</td>\n",
              "      <td>DI Yogyakarta</td>\n",
              "      <td>Jawa</td>\n",
              "      <td>YO</td>\n",
              "      <td>Yogyakarta</td>\n",
              "      <td>3553100</td>\n",
              "      <td>1134</td>\n",
              "      <td>22</td>\n",
              "      <td>2</td>\n",
              "      <td>1</td>\n",
              "      <td>110.390.625</td>\n",
              "      <td>-7.863.382</td>\n",
              "    </tr>\n",
              "  </tbody>\n",
              "</table>\n",
              "</div>"
            ],
            "text/plain": [
              "   province_id  province_name  ...    longitude    latitude\n",
              "0            1           Aceh  ...    9.672.895   3.869.994\n",
              "1            2           Bali  ...   11.512.255    -825.731\n",
              "2            3         Banten  ...  106.160.889  -6.315.299\n",
              "3            4       Bengkulu  ...  102.315.674  -3.414.725\n",
              "4            5  DI Yogyakarta  ...  110.390.625  -7.863.382\n",
              "\n",
              "[5 rows x 12 columns]"
            ]
          },
          "metadata": {},
          "execution_count": 43
        }
      ]
    },
    {
      "cell_type": "code",
      "metadata": {
        "colab": {
          "base_uri": "https://localhost:8080/"
        },
        "id": "zQjoK8wy7fWI",
        "outputId": "70ac2e85-cf0a-43a2-c072-5b0754063d58"
      },
      "source": [
        "# mengecek ukuran baris dan kolom\n",
        "df2.shape"
      ],
      "execution_count": null,
      "outputs": [
        {
          "output_type": "execute_result",
          "data": {
            "text/plain": [
              "(34, 12)"
            ]
          },
          "metadata": {},
          "execution_count": 44
        }
      ]
    },
    {
      "cell_type": "code",
      "metadata": {
        "colab": {
          "base_uri": "https://localhost:8080/"
        },
        "id": "L9TxbV8F7hW6",
        "outputId": "d070b248-6916-48bd-d533-2e26e4e1c059"
      },
      "source": [
        "# mengecek jumlah nilai null pada dataset pertama\n",
        "df2.isna().sum()"
      ],
      "execution_count": null,
      "outputs": [
        {
          "output_type": "execute_result",
          "data": {
            "text/plain": [
              "province_id            0\n",
              "province_name          0\n",
              "island                 0\n",
              "iso_code               0\n",
              "capital_city           0\n",
              "population             0\n",
              "population_kmsquare    0\n",
              "confirmed              0\n",
              "deceased               0\n",
              "released               0\n",
              "longitude              0\n",
              "latitude               0\n",
              "dtype: int64"
            ]
          },
          "metadata": {},
          "execution_count": 45
        }
      ]
    },
    {
      "cell_type": "code",
      "metadata": {
        "colab": {
          "base_uri": "https://localhost:8080/"
        },
        "id": "DmONLLHY7i9j",
        "outputId": "ca83cd25-d1a8-48a8-df66-5be87558fbfa"
      },
      "source": [
        "# mengecek nama-nama kolom, tipe data masing-masing kolom, beserta kelengkapan datanya\n",
        "df2.info()"
      ],
      "execution_count": null,
      "outputs": [
        {
          "output_type": "stream",
          "name": "stdout",
          "text": [
            "<class 'pandas.core.frame.DataFrame'>\n",
            "RangeIndex: 34 entries, 0 to 33\n",
            "Data columns (total 12 columns):\n",
            " #   Column               Non-Null Count  Dtype \n",
            "---  ------               --------------  ----- \n",
            " 0   province_id          34 non-null     int64 \n",
            " 1   province_name        34 non-null     object\n",
            " 2   island               34 non-null     object\n",
            " 3   iso_code             34 non-null     object\n",
            " 4   capital_city         34 non-null     object\n",
            " 5   population           34 non-null     int64 \n",
            " 6   population_kmsquare  34 non-null     int64 \n",
            " 7   confirmed            34 non-null     int64 \n",
            " 8   deceased             34 non-null     int64 \n",
            " 9   released             34 non-null     int64 \n",
            " 10  longitude            34 non-null     object\n",
            " 11  latitude             34 non-null     object\n",
            "dtypes: int64(6), object(6)\n",
            "memory usage: 3.3+ KB\n"
          ]
        }
      ]
    },
    {
      "cell_type": "markdown",
      "metadata": {
        "id": "o4IeiYl6ekQ3"
      },
      "source": [
        "# **Soal 4 (20 poin)**\n",
        "Hitunglah nilai persentase perbandingan jumlah terkonfirmasi positif terhadap populasi per km2 untuk masing-masing provinsi."
      ]
    },
    {
      "cell_type": "code",
      "metadata": {
        "colab": {
          "base_uri": "https://localhost:8080/",
          "height": 261
        },
        "id": "R71nVGOheqcO",
        "outputId": "4eabacc2-b300-4aa5-c494-5de7d90f9f37"
      },
      "source": [
        "# menambah kolom positive_rate\n",
        "df2['positive_rate'] = (df2['confirmed'] / df2['population_kmsquare']) * 100\n",
        "df2.head()"
      ],
      "execution_count": null,
      "outputs": [
        {
          "output_type": "execute_result",
          "data": {
            "text/html": [
              "<div>\n",
              "<style scoped>\n",
              "    .dataframe tbody tr th:only-of-type {\n",
              "        vertical-align: middle;\n",
              "    }\n",
              "\n",
              "    .dataframe tbody tr th {\n",
              "        vertical-align: top;\n",
              "    }\n",
              "\n",
              "    .dataframe thead th {\n",
              "        text-align: right;\n",
              "    }\n",
              "</style>\n",
              "<table border=\"1\" class=\"dataframe\">\n",
              "  <thead>\n",
              "    <tr style=\"text-align: right;\">\n",
              "      <th></th>\n",
              "      <th>province_id</th>\n",
              "      <th>province_name</th>\n",
              "      <th>island</th>\n",
              "      <th>iso_code</th>\n",
              "      <th>capital_city</th>\n",
              "      <th>population</th>\n",
              "      <th>population_kmsquare</th>\n",
              "      <th>confirmed</th>\n",
              "      <th>deceased</th>\n",
              "      <th>released</th>\n",
              "      <th>longitude</th>\n",
              "      <th>latitude</th>\n",
              "      <th>positive_rate</th>\n",
              "    </tr>\n",
              "  </thead>\n",
              "  <tbody>\n",
              "    <tr>\n",
              "      <th>0</th>\n",
              "      <td>1</td>\n",
              "      <td>Aceh</td>\n",
              "      <td>Sumatra</td>\n",
              "      <td>AC</td>\n",
              "      <td>Banda Aceh</td>\n",
              "      <td>4906835</td>\n",
              "      <td>86</td>\n",
              "      <td>4</td>\n",
              "      <td>0</td>\n",
              "      <td>0</td>\n",
              "      <td>9.672.895</td>\n",
              "      <td>3.869.994</td>\n",
              "      <td>4.651163</td>\n",
              "    </tr>\n",
              "    <tr>\n",
              "      <th>1</th>\n",
              "      <td>2</td>\n",
              "      <td>Bali</td>\n",
              "      <td>Kepulauan Nusa Tenggara</td>\n",
              "      <td>BA</td>\n",
              "      <td>Denpasar</td>\n",
              "      <td>4104900</td>\n",
              "      <td>738</td>\n",
              "      <td>9</td>\n",
              "      <td>2</td>\n",
              "      <td>0</td>\n",
              "      <td>11.512.255</td>\n",
              "      <td>-825.731</td>\n",
              "      <td>1.219512</td>\n",
              "    </tr>\n",
              "    <tr>\n",
              "      <th>2</th>\n",
              "      <td>3</td>\n",
              "      <td>Banten</td>\n",
              "      <td>Jawa</td>\n",
              "      <td>BT</td>\n",
              "      <td>Serang</td>\n",
              "      <td>11704877</td>\n",
              "      <td>1298</td>\n",
              "      <td>84</td>\n",
              "      <td>4</td>\n",
              "      <td>1</td>\n",
              "      <td>106.160.889</td>\n",
              "      <td>-6.315.299</td>\n",
              "      <td>6.471495</td>\n",
              "    </tr>\n",
              "    <tr>\n",
              "      <th>3</th>\n",
              "      <td>4</td>\n",
              "      <td>Bengkulu</td>\n",
              "      <td>Sumatra</td>\n",
              "      <td>BE</td>\n",
              "      <td>Bengkulu</td>\n",
              "      <td>1844800</td>\n",
              "      <td>93</td>\n",
              "      <td>0</td>\n",
              "      <td>0</td>\n",
              "      <td>0</td>\n",
              "      <td>102.315.674</td>\n",
              "      <td>-3.414.725</td>\n",
              "      <td>0.000000</td>\n",
              "    </tr>\n",
              "    <tr>\n",
              "      <th>4</th>\n",
              "      <td>5</td>\n",
              "      <td>DI Yogyakarta</td>\n",
              "      <td>Jawa</td>\n",
              "      <td>YO</td>\n",
              "      <td>Yogyakarta</td>\n",
              "      <td>3553100</td>\n",
              "      <td>1134</td>\n",
              "      <td>22</td>\n",
              "      <td>2</td>\n",
              "      <td>1</td>\n",
              "      <td>110.390.625</td>\n",
              "      <td>-7.863.382</td>\n",
              "      <td>1.940035</td>\n",
              "    </tr>\n",
              "  </tbody>\n",
              "</table>\n",
              "</div>"
            ],
            "text/plain": [
              "   province_id  province_name  ...    latitude positive_rate\n",
              "0            1           Aceh  ...   3.869.994      4.651163\n",
              "1            2           Bali  ...    -825.731      1.219512\n",
              "2            3         Banten  ...  -6.315.299      6.471495\n",
              "3            4       Bengkulu  ...  -3.414.725      0.000000\n",
              "4            5  DI Yogyakarta  ...  -7.863.382      1.940035\n",
              "\n",
              "[5 rows x 13 columns]"
            ]
          },
          "metadata": {},
          "execution_count": 47
        }
      ]
    },
    {
      "cell_type": "markdown",
      "metadata": {
        "id": "EP1d8JMMfHSM"
      },
      "source": [
        "Dengan menggunakan bar plot, tampilkan perbandingan nilai persentase tersebut untuk masing-masing provinsi"
      ]
    },
    {
      "cell_type": "code",
      "metadata": {
        "colab": {
          "base_uri": "https://localhost:8080/",
          "height": 237
        },
        "id": "HUWLa-zUfV--",
        "outputId": "f0e68758-0373-4a18-dd51-a8c3436a1cca"
      },
      "source": [
        "# mengambil kolom yang diperlukan\n",
        "soal4 = df2[['positive_rate']].set_index(df2['province_name'])\n",
        "soal4.head()"
      ],
      "execution_count": null,
      "outputs": [
        {
          "output_type": "execute_result",
          "data": {
            "text/html": [
              "<div>\n",
              "<style scoped>\n",
              "    .dataframe tbody tr th:only-of-type {\n",
              "        vertical-align: middle;\n",
              "    }\n",
              "\n",
              "    .dataframe tbody tr th {\n",
              "        vertical-align: top;\n",
              "    }\n",
              "\n",
              "    .dataframe thead th {\n",
              "        text-align: right;\n",
              "    }\n",
              "</style>\n",
              "<table border=\"1\" class=\"dataframe\">\n",
              "  <thead>\n",
              "    <tr style=\"text-align: right;\">\n",
              "      <th></th>\n",
              "      <th>positive_rate</th>\n",
              "    </tr>\n",
              "    <tr>\n",
              "      <th>province_name</th>\n",
              "      <th></th>\n",
              "    </tr>\n",
              "  </thead>\n",
              "  <tbody>\n",
              "    <tr>\n",
              "      <th>Aceh</th>\n",
              "      <td>4.651163</td>\n",
              "    </tr>\n",
              "    <tr>\n",
              "      <th>Bali</th>\n",
              "      <td>1.219512</td>\n",
              "    </tr>\n",
              "    <tr>\n",
              "      <th>Banten</th>\n",
              "      <td>6.471495</td>\n",
              "    </tr>\n",
              "    <tr>\n",
              "      <th>Bengkulu</th>\n",
              "      <td>0.000000</td>\n",
              "    </tr>\n",
              "    <tr>\n",
              "      <th>DI Yogyakarta</th>\n",
              "      <td>1.940035</td>\n",
              "    </tr>\n",
              "  </tbody>\n",
              "</table>\n",
              "</div>"
            ],
            "text/plain": [
              "               positive_rate\n",
              "province_name               \n",
              "Aceh                4.651163\n",
              "Bali                1.219512\n",
              "Banten              6.471495\n",
              "Bengkulu            0.000000\n",
              "DI Yogyakarta       1.940035"
            ]
          },
          "metadata": {},
          "execution_count": 48
        }
      ]
    },
    {
      "cell_type": "code",
      "metadata": {
        "colab": {
          "base_uri": "https://localhost:8080/",
          "height": 531
        },
        "id": "SsSRW645fNF9",
        "outputId": "a0383020-8e78-47b3-fcda-6a8cab85059d"
      },
      "source": [
        "# visualisasi bar plot\n",
        "soal4.plot(kind = 'barh', figsize = (20,10))\n",
        "plt.title('Perbandingan Nilai Persentase Positive Rate Antar Provinsi')\n",
        "plt.ylabel('Nama Provinsi')\n",
        "plt.xlabel('Persentase Positive Rate (%)')\n",
        "plt.show()"
      ],
      "execution_count": null,
      "outputs": [
        {
          "output_type": "display_data",
          "data": {
            "image/png": "[encoded data removed]",
            "text/plain": [
              "<Figure size 1440x720 with 1 Axes>"
            ]
          },
          "metadata": {
            "needs_background": "light"
          }
        }
      ]
    },
    {
      "cell_type": "markdown",
      "metadata": {
        "id": "kvbMi_IrZ99m"
      },
      "source": [
        "Output di atas merupakan bar plot yang memvisualisasikan perbandingan nilai persentase positive rate antar provinsi."
      ]
    },
    {
      "cell_type": "markdown",
      "metadata": {
        "id": "HBfeTtzagzkf"
      },
      "source": [
        "Tampilkan 3 provinsi dengan nilai persentasi terbesar beserta nilai persentasenya."
      ]
    },
    {
      "cell_type": "code",
      "metadata": {
        "colab": {
          "base_uri": "https://localhost:8080/",
          "height": 143
        },
        "id": "twKuCIXtgy3V",
        "outputId": "b30f8662-4552-40ad-aaf5-a6a0029e03cb"
      },
      "source": [
        "highest_rate = df2[['province_name', 'positive_rate']].sort_values(by = ['positive_rate'], ascending = False)\n",
        "highest_rate.head(3)"
      ],
      "execution_count": null,
      "outputs": [
        {
          "output_type": "execute_result",
          "data": {
            "text/html": [
              "<div>\n",
              "<style scoped>\n",
              "    .dataframe tbody tr th:only-of-type {\n",
              "        vertical-align: middle;\n",
              "    }\n",
              "\n",
              "    .dataframe tbody tr th {\n",
              "        vertical-align: top;\n",
              "    }\n",
              "\n",
              "    .dataframe thead th {\n",
              "        text-align: right;\n",
              "    }\n",
              "</style>\n",
              "<table border=\"1\" class=\"dataframe\">\n",
              "  <thead>\n",
              "    <tr style=\"text-align: right;\">\n",
              "      <th></th>\n",
              "      <th>province_name</th>\n",
              "      <th>positive_rate</th>\n",
              "    </tr>\n",
              "  </thead>\n",
              "  <tbody>\n",
              "    <tr>\n",
              "      <th>23</th>\n",
              "      <td>Papua</td>\n",
              "      <td>70.000000</td>\n",
              "    </tr>\n",
              "    <tr>\n",
              "      <th>14</th>\n",
              "      <td>Kalimantan Timur</td>\n",
              "      <td>64.705882</td>\n",
              "    </tr>\n",
              "    <tr>\n",
              "      <th>5</th>\n",
              "      <td>DKI Jakarta</td>\n",
              "      <td>44.198078</td>\n",
              "    </tr>\n",
              "  </tbody>\n",
              "</table>\n",
              "</div>"
            ],
            "text/plain": [
              "       province_name  positive_rate\n",
              "23             Papua      70.000000\n",
              "14  Kalimantan Timur      64.705882\n",
              "5        DKI Jakarta      44.198078"
            ]
          },
          "metadata": {},
          "execution_count": 50
        }
      ]
    },
    {
      "cell_type": "markdown",
      "metadata": {
        "id": "QTyU8WwAhzub"
      },
      "source": [
        "Berdasarkan output diatas, 3 provinsi yang memiliki positive rate tertinggi adalah : \n",
        "1.   Papua\n",
        "2.   Kalimantan Timur\n",
        "3.   DKI Jakarta\n",
        "\n"
      ]
    },
    {
      "cell_type": "markdown",
      "metadata": {
        "id": "eYBBYIWkiuKS"
      },
      "source": [
        "# **Soal 5 (20 poin)**\n",
        "Dengan menggunakan pie chart, tampilkan persentase jumlah terkonfimasi positif untuk masing-masing pulau."
      ]
    },
    {
      "cell_type": "code",
      "metadata": {
        "id": "Zmuup8Dni0PR"
      },
      "source": [
        "# groupby berdasarkan pulau\n",
        "soal5 = df2.groupby('island', axis = 0).sum()"
      ],
      "execution_count": null,
      "outputs": []
    },
    {
      "cell_type": "code",
      "metadata": {
        "colab": {
          "base_uri": "https://localhost:8080/",
          "height": 455
        },
        "id": "ocBP2rw5ke7C",
        "outputId": "ac77af16-bc2f-48e2-9b25-d42677695e36"
      },
      "source": [
        "# visualisasi pie chart\n",
        "soal5['confirmed'].plot(kind = 'pie', figsize = (15, 6), autopct = '%1.1f%%', startangle = 90, shadow = True,\n",
        "                        labels = None, pctdistance = 1.12, explode = [0.02, 0.05, 0.07, 0.1, 0.2, 0.3, 0.4])\n",
        "\n",
        "\n",
        "plt.title('Persentase Jumlah Terkonfirmasi Positif Berdasarkan Pulau', y = 1.2)\n",
        "plt.legend(labels = soal5.index, loc = 'upper right')\n",
        "plt.axis('equal')\n",
        "plt.show"
      ],
      "execution_count": null,
      "outputs": [
        {
          "output_type": "execute_result",
          "data": {
            "text/plain": [
              "<function matplotlib.pyplot.show>"
            ]
          },
          "metadata": {},
          "execution_count": 52
        },
        {
          "output_type": "display_data",
          "data": {
            "image/png": "[encoded data removed]",
            "text/plain": [
              "<Figure size 1080x432 with 1 Axes>"
            ]
          },
          "metadata": {}
        }
      ]
    },
    {
      "cell_type": "markdown",
      "metadata": {
        "id": "BvDPjgD0aUO8"
      },
      "source": [
        "Output di atas merupakan pie chart yang memvisualisasikan nilai persentase jumlah terkonfirmasi positif untuk masing-masing pulau."
      ]
    }
  ]
}